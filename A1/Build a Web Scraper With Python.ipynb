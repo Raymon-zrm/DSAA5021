{
 "cells": [
  {
   "cell_type": "markdown",
   "metadata": {},
   "source": [
    "### retrieve the HTML from the website"
   ]
  },
  {
   "cell_type": "code",
   "execution_count": 1,
   "metadata": {},
   "outputs": [],
   "source": [
    "import requests\n",
    "from selenium import webdriver\n",
    "from selenium.webdriver.common.keys import Keys\n",
    "from selenium.webdriver.common.by import By\n",
    "from selenium.webdriver.support.ui import WebDriverWait\n",
    "from selenium.webdriver.support import expected_conditions as EC\n",
    "import time\n",
    "from bs4 import BeautifulSoup\n",
    "\n",
    "URL = \"https://facultyprofiles.hkust-gz.edu.cn/\"\n",
    "\n",
    "driver = webdriver.Chrome()  # 实例化Chrome浏览器\n",
    "driver.get(URL)\n",
    "\n",
    "# full_page_source = driver.page_source\n",
    "\n",
    "#driver.quit()"
   ]
  },
  {
   "cell_type": "code",
   "execution_count": 2,
   "metadata": {},
   "outputs": [],
   "source": [
    "info_hub = '//*[@id=\"app\"]/section/section/div/ul[1]/li[3]'\n",
    "\n",
    "wait = WebDriverWait(driver, 10)\n",
    "info_button = wait.until(EC.element_to_be_clickable((By.XPATH,info_hub))).click()\n",
    "\n",
    "more = '//*[@id=\"app\"]/section/section/div/div[2]/div[3]/table/tbody/tr[1]/td[6]/div/button'\n",
    "#//*[@id=\"app\"]/section/section/div/div[2]/div[3]/table/tbody/tr[77]/td[6]/div/button\n",
    "\n",
    "more_button = wait.until(EC.element_to_be_clickable((By.XPATH, more))).click()"
   ]
  },
  {
   "cell_type": "code",
   "execution_count": 13,
   "metadata": {},
   "outputs": [
    {
     "data": {
      "text/plain": [
       "'https://facultyprofiles.hkust-gz.edu.cn/'"
      ]
     },
     "execution_count": 13,
     "metadata": {},
     "output_type": "execute_result"
    }
   ],
   "source": [
    "page = requests.get(driver.current_url)\n",
    "\n",
    "soup = BeautifulSoup(page.content, \"html.parser\")\n",
    "\n",
    "full_page_source = driver.page_source\n",
    "\n",
    "#faculty_info_elements = full_page_source.find_all(\"div\", class_=\"el-row\")\n",
    "\n",
    "#print(full_page_source)\n",
    "driver.current_url"
   ]
  },
  {
   "cell_type": "code",
   "execution_count": 9,
   "metadata": {},
   "outputs": [],
   "source": [
    "for faculty_info_element in faculty_info_elements:\n",
    "    print(faculty_info_element, end=\"\\n\"*2)"
   ]
  },
  {
   "cell_type": "code",
   "execution_count": 5,
   "metadata": {},
   "outputs": [
    {
     "data": {
      "text/plain": [
       "<!DOCTYPE html>\n",
       "<html lang=\"\"><head><meta charset=\"utf-8\"/><meta content=\"IE=edge\" http-equiv=\"X-UA-Compatible\"/><meta content=\"width=device-width,initial-scale=1,minimum-scale=1,maximum-scale=1,user-scalable=no\" name=\"viewport\"/><link href=\"/favicon.ico\" rel=\"icon\"/><title>Faculty Profile | HKUST(GZ)</title><link href=\"/css/chunk-68bc8d83.24b819a5.css\" rel=\"prefetch\"/><link href=\"/css/chunk-75f8e0d6.59edb571.css\" rel=\"prefetch\"/><link href=\"/css/chunk-876f85d2.de927588.css\" rel=\"prefetch\"/><link href=\"/js/chunk-17674ada.8e51a3a0.js\" rel=\"prefetch\"/><link href=\"/js/chunk-68bc8d83.99ebc600.js\" rel=\"prefetch\"/><link href=\"/js/chunk-75f8e0d6.6e100b20.js\" rel=\"prefetch\"/><link href=\"/js/chunk-876f85d2.869022b3.js\" rel=\"prefetch\"/><link as=\"style\" href=\"/css/app.d4c609ae.css\" rel=\"preload\"/><link as=\"style\" href=\"/css/chunk-vendors.70e18e9e.css\" rel=\"preload\"/><link as=\"script\" href=\"/js/app.83fc59d3.js\" rel=\"preload\"/><link as=\"script\" href=\"/js/chunk-vendors.e8ec9803.js\" rel=\"preload\"/><link href=\"/css/chunk-vendors.70e18e9e.css\" rel=\"stylesheet\"/><link href=\"/css/app.d4c609ae.css\" rel=\"stylesheet\"/></head><body><noscript><strong>We're sorry but `Faculty Profile | HKUST(GZ)` doesn't work properly without JavaScript enabled. Please enable it to continue.</strong></noscript><div id=\"app\"></div><script src=\"/js/chunk-vendors.e8ec9803.js\"></script><script src=\"/js/app.83fc59d3.js\"></script></body></html>"
      ]
     },
     "execution_count": 5,
     "metadata": {},
     "output_type": "execute_result"
    }
   ],
   "source": [
    "soup"
   ]
  },
  {
   "cell_type": "code",
   "execution_count": null,
   "metadata": {},
   "outputs": [],
   "source": []
  }
 ],
 "metadata": {
  "kernelspec": {
   "display_name": "dsaa5021",
   "language": "python",
   "name": "python3"
  },
  "language_info": {
   "codemirror_mode": {
    "name": "ipython",
    "version": 3
   },
   "file_extension": ".py",
   "mimetype": "text/x-python",
   "name": "python",
   "nbconvert_exporter": "python",
   "pygments_lexer": "ipython3",
   "version": "3.9.18"
  },
  "orig_nbformat": 4
 },
 "nbformat": 4,
 "nbformat_minor": 2
}
