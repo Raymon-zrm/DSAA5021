{
 "cells": [
  {
   "cell_type": "markdown",
   "metadata": {},
   "source": [
    "### retrieve the HTML from the website"
   ]
  },
  {
   "cell_type": "code",
   "execution_count": 1,
   "metadata": {},
   "outputs": [
    {
     "data": {
      "text/plain": [
       "<selenium.webdriver.remote.webelement.WebElement (session=\"bfe454d6e497f4c8c595e3c8b47b3f04\", element=\"D27010A671A3C3FC6C44316F5D43B3F7_element_34\")>"
      ]
     },
     "execution_count": 1,
     "metadata": {},
     "output_type": "execute_result"
    }
   ],
   "source": [
    "import requests\n",
    "from selenium import webdriver\n",
    "from selenium.webdriver.common.keys import Keys\n",
    "from selenium.webdriver.common.by import By\n",
    "from selenium.webdriver.support.ui import WebDriverWait\n",
    "from selenium.webdriver.support import expected_conditions as EC\n",
    "import time\n",
    "from bs4 import BeautifulSoup\n",
    "\n",
    "URL = \"https://facultyprofiles.hkust-gz.edu.cn/\"\n",
    "\n",
    "driver = webdriver.Chrome()  # 实例化Chrome浏览器\n",
    "driver.get(URL)\n",
    "\n",
    "# full_page_source = driver.page_source\n",
    "\n",
    "#driver.quit()\n",
    "info_hub = '//*[@id=\"app\"]/section/section/div/ul[1]/li[3]'\n",
    "\n",
    "wait = WebDriverWait(driver, 10)\n",
    "info_button = wait.until(EC.element_to_be_clickable((By.XPATH,info_hub))).click()\n",
    "from pandas import DataFrame\n",
    "\n",
    "#for i in range(1,78):\n",
    "    \n",
    "more = '//*[@id=\"app\"]/section/section/div/div[2]/div[3]/table/tbody/tr['+str(1)+']/td[6]/div/button'\n",
    "    #一共有77个faculty\n",
    "\n",
    "wait.until(EC.element_to_be_clickable((By.XPATH, more))).click()\n",
    "    \n",
    "driver.switch_to.window(driver.window_handles[1])\n",
    "    \n",
    "WebDriverWait(driver, 10).until(EC.presence_of_element_located((By.CLASS_NAME, \"el-row\")))\n",
    "    \n"
   ]
  },
  {
   "cell_type": "code",
   "execution_count": 68,
   "metadata": {},
   "outputs": [
    {
     "data": {
      "text/plain": [
       "'https://facultyprofiles.hkust-gz.edu.cn/faculty-personal-page/CHEN-Lei/leichen'"
      ]
     },
     "execution_count": 68,
     "metadata": {},
     "output_type": "execute_result"
    }
   ],
   "source": [
    "driver.current_url\n",
    "\n",
    "    #soup = BeautifulSoup(page.content, \"html.parser\")\n"
   ]
  },
  {
   "cell_type": "code",
   "execution_count": 4,
   "metadata": {},
   "outputs": [],
   "source": [
    "soup = BeautifulSoup(driver.page_source, 'html.parser')\n",
    "faculty_list = soup.find_all('a', class_='icon-text') \n",
    "faculty_list = [faculty.text for faculty in faculty_list]\n",
    "\n",
    "#test2 = DataFrame(x.split(\"\\n\", -1)).T"
   ]
  },
  {
   "cell_type": "code",
   "execution_count": null,
   "metadata": {},
   "outputs": [],
   "source": [
    "WebDriverWait(driver, 10).until(EC.presence_of_element_located((By.CLASS_NAME, \"el-row\")))"
   ]
  }
 ],
 "metadata": {
  "kernelspec": {
   "display_name": "dsaa5021",
   "language": "python",
   "name": "python3"
  },
  "language_info": {
   "codemirror_mode": {
    "name": "ipython",
    "version": 3
   },
   "file_extension": ".py",
   "mimetype": "text/x-python",
   "name": "python",
   "nbconvert_exporter": "python",
   "pygments_lexer": "ipython3",
   "version": "3.9.18"
  },
  "orig_nbformat": 4
 },
 "nbformat": 4,
 "nbformat_minor": 2
}
